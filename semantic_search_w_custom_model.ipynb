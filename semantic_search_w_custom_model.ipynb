{
 "cells": [
  {
   "cell_type": "code",
   "execution_count": 1,
   "id": "2b9298ca",
   "metadata": {},
   "outputs": [],
   "source": [
    "#!/usr/bin/env python3\n",
    "# -*- coding: utf-8 -*-\n",
    "\"\"\"\n",
    "Created on Mon Feb 17 15:11:03 2025\n",
    "\n",
    "@author: randy\n",
    "\n",
    "this file performs inference on a semantic search model training with custom data\n",
    "\n",
    "you much unzip the model from the tar file\n",
    "\n",
    "\"\"\"\n",
    "\n",
    "# %pip install accelerate==1.3.0 #0.26.0\n",
    "# %pip install sentence-transformers==3.4.1\n",
    "# %pip install datasets==3.3.1\n",
    "\n",
    "\n",
    "import datetime as dt\n",
    "import pandas as pd\n",
    "import re\n",
    "import numpy as np\n",
    "import json\n",
    "import random\n",
    "import ast\n",
    "import copy\n",
    "from sklearn.neighbors import NearestNeighbors\n",
    "import numpy as np\n",
    "import pickle\n",
    "\n",
    "#for vector embeddings\n",
    "from sentence_transformers import SentenceTransformer, losses, InputExample, util\n",
    "\n",
    "data_filename = \"/home/randy/supportiv/mle_screening_dataset.csv\"\n",
    "embedding_model_filename = '/home/randy/supportiv/custome_model'\n",
    "nn_model_filename = \"/home/randy/supportiv/trained_nn_model.pkl\""
   ]
  },
  {
   "cell_type": "code",
   "execution_count": null,
   "id": "5f098f33",
   "metadata": {},
   "outputs": [],
   "source": [
    "\n",
    "#############################################################################################################\n",
    "# Step one: Build the search model <-------------------- you only need to do this one\n",
    "#   1. load the data\n",
    "#   2. load the model from HuggingFace and save locallly\n",
    "#   3. encode all the answers\n",
    "#   4. compute the nearest neighbor search model using the encoded answers\n",
    "#   5. save the nearest neigbor model (as pickle file)\n",
    "\n",
    "# read the raw data\n",
    "train_data = pd.read_csv(data_filename)\n",
    "train_data.columns\n",
    "docs = train_data['answer'].astype(str).tolist()\n",
    "\n",
    "#Load the pre-trained (not fine-tuned) embedding model\n",
    "model = SentenceTransformer(embedding_model_filename)\n",
    "\n",
    "# encode the answeres with the embedding model\n",
    "doc_emb = model.encode(docs)\n",
    "\n",
    "# compute a nearest neighbor model with answer embeddings\n",
    "nbrs = NearestNeighbors(n_neighbors=10, algorithm='ball_tree').fit(doc_emb)\n",
    "\n",
    "# same model to storage\n",
    "pickle.dump(nbrs, open(nn_model_filename, 'wb'))"
   ]
  },
  {
   "cell_type": "code",
   "execution_count": 2,
   "id": "3e21f9c1",
   "metadata": {},
   "outputs": [
    {
     "name": "stderr",
     "output_type": "stream",
     "text": [
      "/home/randy/anaconda3/envs/anapy310/lib/python3.10/site-packages/torch/cuda/__init__.py:138: UserWarning: CUDA initialization: The NVIDIA driver on your system is too old (found version 11040). Please update your GPU driver by downloading and installing a new version from the URL: http://www.nvidia.com/Download/index.aspx Alternatively, go to: https://pytorch.org to install a PyTorch version that has been compiled with your version of the CUDA driver. (Triggered internally at ../c10/cuda/CUDAFunctions.cpp:108.)\n",
      "  return torch._C._cuda_getDeviceCount() > 0\n"
     ]
    }
   ],
   "source": [
    "\n",
    "#############################################################################################################\n",
    "# Step two: inference\n",
    "#   1. load nearest neigbor model\n",
    "#   2. load the HuggingFace model from local strage\n",
    "#   3. load the orgnial answeres\n",
    "#   4. ask a question\n",
    "#   5. show the answers that are closet to the question\n",
    "\n",
    "# load the nearest meighbor model\n",
    "loaded_nn_model = pickle.load(open(nn_model_filename, 'rb'))\n",
    "\n",
    "# load the embedding model\n",
    "loaded_embedding_mode = SentenceTransformer(embedding_model_filename)\n",
    "\n",
    "# load the orginal data set\n",
    "train_data = pd.read_csv(data_filename)"
   ]
  },
  {
   "cell_type": "code",
   "execution_count": 3,
   "id": "7f645bdf",
   "metadata": {},
   "outputs": [],
   "source": [
    "\n",
    "def ask_question(the_question, num_results = 5):\n",
    "    \"\"\"Aks the semantic search a question and see the results\"\"\"\n",
    "    new_embedding = loaded_embedding_mode.encode(the_question)\n",
    "    distances, indices = loaded_nn_model.kneighbors([new_embedding], num_results)\n",
    "    return_len = len(indices[0])\n",
    "\n",
    "    return_results = []\n",
    "    for i in range(return_len): #an_index in indices[0]:\n",
    "        this_answer = train_data.loc[indices[0][i]]['answer']\n",
    "        this_answers_distance = distances[0][i]\n",
    "        return_results.append([i+1, the_question, this_answers_distance, this_answer])\n",
    "        #print(\"******************************************************************************\")\n",
    "        #print(i+1, this_answers_distance, this_answer)\n",
    "    \n",
    "    return return_results\n"
   ]
  },
  {
   "cell_type": "code",
   "execution_count": 4,
   "id": "4fe8cd47",
   "metadata": {},
   "outputs": [
    {
     "name": "stdout",
     "output_type": "stream",
     "text": [
      "can someone be allergic to water?\n",
      "******************************************************************************\n",
      "1 : 0.918213472942668 : Summary : We all need to drink water. How much you need depends on your size, activity level, and the weather where you live.    The water you drink is a combination of surface water and groundwater. Surface water includes rivers, lakes and reservoirs. Groundwater comes from underground. The United States has one of the safest water supplies in the world, but drinking water quality can vary from place to place. It depends on the condition of the source water and the treatment it receives. Treatment may include adding fluoride to prevent cavities and chlorine to kill germs.     Your water supplier must give you annual reports on drinking water. The reports include where your water came from and what contaminants are in it.    Centers for Disease Control and Prevention\n",
      "******************************************************************************\n",
      "2 : 0.9462048348320268 : Summary : We all need clean water. People need it to grow crops and to operate factories, and for drinking and recreation. Fish and wildlife depend on it to survive.     Many different pollutants can harm our rivers, streams, lakes, and oceans. The three most common are soil, nutrients, and bacteria. Rain washes soil into streams and rivers. The soil can kill tiny animals and fish eggs. It can clog the gills of fish and block light, causing plants to die. Nutrients, often from fertilizers, cause problems in lakes, ponds, and reservoirs. Nitrogen and phosphorus make algae grow and can turn water green. Bacteria, often from sewage spills, can pollute fresh or salt water.     You can help protect your water supply:       - Don't pour household products such as cleansers, beauty products, medicines, auto fluids, paint, and lawn care products down the drain. Take them to a hazardous waste collection site.    - Throw away excess household grease (meat fats, lard, cooking oil, shortening, butter, margarine, etc.) diapers, condoms, and personal hygiene products in the garbage can.    - Clean up after your pets. Pet waste contains nutrients and germs.       Environmental Protection Agency\n",
      "******************************************************************************\n",
      "3 : 0.974207768632363 : General guidelines for safe seafood consumption:\n",
      "******************************************************************************\n",
      "4 : 1.0093930255573782 : Summary : Playing in the water - whether swimming, boating or diving - can be fun. It can also be dangerous, especially for children. Being safe can help prevent injuries and drowning. To stay safe in the water       - Avoid alcohol when swimming or boating    - Wear a life jacket whenever you're in a boat    - Don't swim alone, or in bad weather    - Learn CPR    - Learn to swim and teach your children to swim    - Supervise your children when they are in the water    - Prevent sunburns - use plenty of sunscreen\n",
      "******************************************************************************\n",
      "5 : 1.0103539940362023 : Washing your hands frequently can help prevent upper respiratory infections, which can lead to an ear infection called otitis media. The ear infection otitis media can be a cause of long-term hearing loss. Also, ask your doctor about a yearly flu shot to help prevent flu-related ear infections. If you still get an ear infection, see a doctor immediately before it becomes more serious.\n"
     ]
    }
   ],
   "source": [
    "answers = ask_question(\"can someone be allergic to water?\")\n",
    "\n",
    "print(answers[0][1])\n",
    "\n",
    "for i in range(len(answers)): #an_index in indices[0]:\n",
    "    answer_rank = answers[i][0]\n",
    "    this_answer = answers[i][3]\n",
    "    answer_distance = answers[i][2]\n",
    "    \n",
    "    print(\"******************************************************************************\")\n",
    "    print(answer_rank, \":\", answer_distance,\":\", this_answer)"
   ]
  },
  {
   "cell_type": "code",
   "execution_count": 5,
   "id": "6f4a1657",
   "metadata": {},
   "outputs": [
    {
     "name": "stdout",
     "output_type": "stream",
     "text": [
      "tell me about glaucoma research?\n",
      "******************************************************************************\n",
      "1 : 0.5150078020563468 : Through studies in the laboratory and with patients, the National Eye Institute is seeking better ways to detect, treat, and prevent vision loss in people with glaucoma. For example, researchers have discovered genes that could help explain how glaucoma damages the eye. NEI also is supporting studies to learn more about who is likely to get glaucoma, when to treat people who have increased eye pressure, and which treatment to use first.\n",
      "******************************************************************************\n",
      "2 : 0.6567313450002238 : Glaucoma is a group of diseases that can damage the eye's optic nerve and result in vision loss and blindness. The most common form of the disease is open-angle glaucoma. With early treatment, you can often protect your eyes against serious vision loss. (Watch the video to learn more about glaucoma. To enlarge the video, click the brackets in the lower right-hand corner. To reduce the video, press the Escape (Esc) button on your keyboard.)  See this graphic for a quick overview of glaucoma, including how many people it affects, whos at risk, what to do if you have it, and how to learn more.  See a glossary of glaucoma terms.\n",
      "******************************************************************************\n",
      "3 : 0.6725815312675695 : Glaucoma is a group of diseases that can damage the eye's optic nerve. It is a leading cause of blindness in the United States. It usually happens when the fluid pressure inside the eyes slowly rises, damaging the optic nerve. Often there are no symptoms at first. Without treatment, people with glaucoma will slowly lose their peripheral, or side vision. They seem to be looking through a tunnel. Over time, straight-ahead vision may decrease until no vision remains.    A comprehensive eye exam can tell if you have glaucoma. People at risk should get eye exams at least every two years. They include       -  African Americans over age 40    -  People over age 60, especially Mexican Americans    -  People with a family history of glaucoma       There is no cure, but glaucoma can usually be controlled. Early treatment can help protect your eyes against vision loss. Treatments usually include prescription eyedrops and/or surgery.    NIH: National Eye Institute\n",
      "******************************************************************************\n",
      "4 : 0.7165213087421571 : Glaucoma is a group of eye disorders in which the optic nerves connecting the eyes and the brain are progressively damaged. This damage can lead to reduction in side (peripheral) vision and eventual blindness. Other signs and symptoms may include bulging eyes, excessive tearing, and abnormal sensitivity to light (photophobia). The term \"early-onset glaucoma\" may be used when the disorder appears before the age of 40.  In most people with glaucoma, the damage to the optic nerves is caused by increased pressure within the eyes (intraocular pressure). Intraocular pressure depends on a balance between fluid entering and leaving the eyes.  Usually glaucoma develops in older adults, in whom the risk of developing the disorder may be affected by a variety of medical conditions including high blood pressure (hypertension) and diabetes mellitus, as well as family history. The risk of early-onset glaucoma depends mainly on heredity.  Structural abnormalities that impede fluid drainage in the eye may be present at birth and usually become apparent during the first year of life. Such abnormalities may be part of a genetic disorder that affects many body systems, called a syndrome. If glaucoma appears before the age of 5 without other associated abnormalities, it is called primary congenital glaucoma.  Other individuals experience early onset of primary open-angle glaucoma, the most common adult form of glaucoma. If primary open-angle glaucoma develops during childhood or early adulthood, it is called juvenile open-angle glaucoma.\n",
      "******************************************************************************\n",
      "5 : 0.7419840087412776 : Anyone can develop glaucoma. Some people are at higher risk than others. They include - African-Americans over age 40  - everyone over age 60, especially Hispanics/Latinos  - people with a family history of glaucoma. African-Americans over age 40 everyone over age 60, especially Hispanics/Latinos people with a family history of glaucoma.  See this graphic for a quick overview of glaucoma, including how many people it affects, whos at risk, what to do if you have it, and how to learn more.\n"
     ]
    }
   ],
   "source": [
    "answers = ask_question(\"tell me about glaucoma research?\")\n",
    "\n",
    "print(answers[0][1])\n",
    "\n",
    "for i in range(len(answers)): #an_index in indices[0]:\n",
    "    answer_rank = answers[i][0]\n",
    "    this_answer = answers[i][3]\n",
    "    answer_distance = answers[i][2]\n",
    "    \n",
    "    print(\"******************************************************************************\")\n",
    "    print(answer_rank, \":\", answer_distance,\":\", this_answer)"
   ]
  },
  {
   "cell_type": "code",
   "execution_count": 6,
   "id": "98a7de6c",
   "metadata": {},
   "outputs": [
    {
     "name": "stdout",
     "output_type": "stream",
     "text": [
      "Are pets good to have around?\n",
      "******************************************************************************\n",
      "1 : 0.8237381398961968 : Summary : Pets can add fun, companionship and a feeling of safety to your life. Before getting a pet, think carefully about which animal is best for your family. What is each family member looking for in a pet? Who will take care of it? Does anyone have pet allergies? What type of animal suits your lifestyle and budget?    Once you own a pet, keep it healthy. Know the signs of medical problems. Take your pet to the veterinarian if you notice:       - Loss of appetite    - Drinking a lot of water    - Gaining or losing a lot of weight quickly    - Strange behavior    - Being sluggish and tired    - Trouble getting up or down    - Strange lumps\n",
      "******************************************************************************\n",
      "2 : 0.8884635748592732 : Summary : As parents, we want to keep our children safe from harm. Take steps to keep your children safe:       - Install the right child safety seat in your car    - Teach children how to cross the street safely    - Make sure they wear the right gear and equipment for sports    - Install and test smoke alarms     - Store medicines, cleaners and other dangerous substances in locked cabinets    - Babyproof your home    - Don't leave small children unattended\n",
      "******************************************************************************\n",
      "3 : 0.9459747518830948 : General guidelines for safe seafood consumption:\n",
      "******************************************************************************\n",
      "4 : 0.9632926298393792 : Never eat raw freshwater crabs or crayfish. Cook crabs and crayfish for to at least 145°F (~63°C). Travelers should be advised to avoid traditional meals containing undercooked freshwater crustaceans.\n",
      "    \n",
      "More on: Fight BAC: Safe Food Handling\n",
      "******************************************************************************\n",
      "5 : 0.971259053543811 : Your relatives will probably want to know why you want information about their health. You can explain that knowing what diseases run in the family can help family members take steps to lower their risk. These steps might include certain lifestyle changes, medical tests, or choices of medicines to take. Offer to share your health history when it is done. Encourage relatives to create their own health histories. It's important to find the right time to talk about family health. Family get-togethers like holidays, vacations, and reunions might be good opportunities. Some people may prefer to share health information privately, in person or by telephone. You can also contact family members by mail or e-mail. Be sure to take notes or record the conversations with a tape recorder or video camera to help you remember.\n"
     ]
    }
   ],
   "source": [
    "answers = ask_question(\"Are pets good to have around?\")\n",
    "\n",
    "print(answers[0][1])\n",
    "\n",
    "for i in range(len(answers)): #an_index in indices[0]:\n",
    "    answer_rank = answers[i][0]\n",
    "    this_answer = answers[i][3]\n",
    "    answer_distance = answers[i][2]\n",
    "    \n",
    "    print(\"******************************************************************************\")\n",
    "    print(answer_rank, \":\", answer_distance,\":\", this_answer)\n",
    "\n",
    "    "
   ]
  },
  {
   "cell_type": "code",
   "execution_count": 7,
   "id": "99fe848d",
   "metadata": {},
   "outputs": [
    {
     "name": "stdout",
     "output_type": "stream",
     "text": [
      "training set accuracy:  1.0000609533097646   number correct: 16407\n"
     ]
    }
   ],
   "source": [
    "\n",
    "# test the model accuracy\n",
    "\n",
    "num_correct = 0\n",
    "for i,r in train_data.iterrows():\n",
    "    the_question = r['question']\n",
    "    the_expected_answer = r['answer']\n",
    "    \n",
    "    answers = ask_question(the_question)\n",
    "    \n",
    "    for i in range(len(answers)): #an_index in indices[0]:\n",
    "        answer_rank = answers[i][0]\n",
    "        this_answer = answers[i][3]\n",
    "        answer_distance = answers[i][2]\n",
    "        \n",
    "        if this_answer==the_expected_answer:\n",
    "            #print(\"got it!!\")\n",
    "            num_correct+=1\n",
    "\n",
    "print(\"training set accuracy: \", num_correct/train_data.shape[0], \"  number correct:\", num_correct)     \n",
    "\n",
    "\n",
    "# training set accuracy:  0.941   number correct: 15449\n",
    "# training set accuracy:  1.000   number correct: 16407 # possibly over trained <------ final model    "
   ]
  },
  {
   "cell_type": "code",
   "execution_count": null,
   "id": "c599cf9c",
   "metadata": {},
   "outputs": [],
   "source": []
  }
 ],
 "metadata": {
  "kernelspec": {
   "display_name": "Python 3 (ipykernel)",
   "language": "python",
   "name": "python3"
  },
  "language_info": {
   "codemirror_mode": {
    "name": "ipython",
    "version": 3
   },
   "file_extension": ".py",
   "mimetype": "text/x-python",
   "name": "python",
   "nbconvert_exporter": "python",
   "pygments_lexer": "ipython3",
   "version": "3.10.13"
  }
 },
 "nbformat": 4,
 "nbformat_minor": 5
}
