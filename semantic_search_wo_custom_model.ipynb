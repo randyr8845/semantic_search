{
 "cells": [
  {
   "cell_type": "code",
   "execution_count": 1,
   "id": "76590371",
   "metadata": {},
   "outputs": [],
   "source": [
    "#!/usr/bin/env python3\n",
    "# -*- coding: utf-8 -*-\n",
    "\"\"\"\n",
    "Created on Mon Feb 17 10:11:23 2025\n",
    "\n",
    "@author: randy\n",
    "\n",
    "Semantic \n",
    "\n",
    "\n",
    "\"\"\"\n",
    "# %pip install accelerate==1.3.0 #0.26.0\n",
    "# %pip install sentence-transformers==3.4.1\n",
    "# %pip install datasets==3.3.1\n",
    "\n",
    "import datetime as dt\n",
    "import pandas as pd\n",
    "# import re\n",
    "# import numpy as np\n",
    "# import json\n",
    "# import random\n",
    "# import ast\n",
    "# import copy\n",
    "from sklearn.neighbors import NearestNeighbors\n",
    "import numpy as np\n",
    "import pickle\n",
    "\n",
    "#for vector embeddings\n",
    "from sentence_transformers import SentenceTransformer, losses, InputExample, util\n",
    "\n",
    "data_filename = \"/home/randy/supportiv/mle_screening_dataset.csv\"\n",
    "org_huggingface_model_name = 'sentence-transformers/msmarco-MiniLM-L6-cos-v5'\n",
    "embedding_model_filename = '/home/randy/supportiv/untrained_model'\n",
    "nn_model_filename = \"/home/randy/supportiv/untrained_nn_model.pkl\""
   ]
  },
  {
   "cell_type": "code",
   "execution_count": null,
   "id": "3d888dc3",
   "metadata": {},
   "outputs": [],
   "source": [
    "#############################################################################################################\n",
    "# Step one: Build the search model <-------------------- you only need to do this one\n",
    "#   1. load the data\n",
    "#   2. load the model from HuggingFace and save locallly\n",
    "#   3. encode all the answers\n",
    "#   4. compute the nearest neighbor search model using the encoded answers\n",
    "#   5. save the nearest neigbor model (as pickle file)\n",
    "\n",
    "# read the raw data\n",
    "train_data = pd.read_csv(data_filename)\n",
    "train_data.columns\n",
    "docs = train_data['answer'].astype(str).tolist()\n",
    "\n",
    "#Load the pre-trained (not fine-tuned) embedding model\n",
    "model = SentenceTransformer(org_huggingface_model_name)\n",
    "model.save(embedding_model_filename) # save the embedding model locally\n",
    "\n",
    "# encode the answeres with the embedding model\n",
    "doc_emb = model.encode(docs)\n",
    "\n",
    "# compute a nearest neighbor model with answer embeddings\n",
    "nbrs = NearestNeighbors(n_neighbors=10, algorithm='ball_tree').fit(doc_emb)\n",
    "\n",
    "# same model to storage\n",
    "pickle.dump(nbrs, open(nn_model_filename, 'wb'))"
   ]
  },
  {
   "cell_type": "code",
   "execution_count": 2,
   "id": "9ebcb62d",
   "metadata": {},
   "outputs": [
    {
     "name": "stderr",
     "output_type": "stream",
     "text": [
      "/home/randy/anaconda3/envs/anapy310/lib/python3.10/site-packages/torch/cuda/__init__.py:138: UserWarning: CUDA initialization: The NVIDIA driver on your system is too old (found version 11040). Please update your GPU driver by downloading and installing a new version from the URL: http://www.nvidia.com/Download/index.aspx Alternatively, go to: https://pytorch.org to install a PyTorch version that has been compiled with your version of the CUDA driver. (Triggered internally at ../c10/cuda/CUDAFunctions.cpp:108.)\n",
      "  return torch._C._cuda_getDeviceCount() > 0\n",
      "/home/randy/anaconda3/envs/anapy310/lib/python3.10/site-packages/torch/_utils.py:831: UserWarning: TypedStorage is deprecated. It will be removed in the future and UntypedStorage will be the only storage class. This should only matter to you if you are using storages directly.  To access UntypedStorage directly, use tensor.untyped_storage() instead of tensor.storage()\n",
      "  return self.fget.__get__(instance, owner)()\n"
     ]
    }
   ],
   "source": [
    "#############################################################################################################\n",
    "# Step two: inference\n",
    "#   1. load nearest neigbor model\n",
    "#   2. load the HuggingFace model from local strage\n",
    "#   3. load the orgnial answeres\n",
    "#   4. ask a question\n",
    "#   5. show the answers that are closet to the question\n",
    "\n",
    "# load the nearest meighbor model\n",
    "loaded_nn_model = pickle.load(open(nn_model_filename, 'rb'))\n",
    "\n",
    "# load the embedding model\n",
    "loaded_embedding_mode = SentenceTransformer(embedding_model_filename)\n",
    "\n",
    "# load the orginal data set\n",
    "train_data = pd.read_csv(data_filename)"
   ]
  },
  {
   "cell_type": "code",
   "execution_count": 3,
   "id": "e7d3ae41",
   "metadata": {},
   "outputs": [],
   "source": [
    "\n",
    "def ask_question(the_question, num_results = 5):\n",
    "    \"\"\"Aks the semantic search a question and see the results\"\"\"\n",
    "    new_embedding = loaded_embedding_mode.encode(the_question)\n",
    "    distances, indices = loaded_nn_model.kneighbors([new_embedding], num_results)\n",
    "    return_len = len(indices[0])\n",
    "\n",
    "    return_results = []\n",
    "    for i in range(return_len): #an_index in indices[0]:\n",
    "        this_answer = train_data.loc[indices[0][i]]['answer']\n",
    "        this_answers_distance = distances[0][i]\n",
    "        return_results.append([i+1, the_question, this_answers_distance, this_answer])\n",
    "        #print(\"******************************************************************************\")\n",
    "        #print(i+1, this_answers_distance, this_answer)\n",
    "    \n",
    "    return return_results"
   ]
  },
  {
   "cell_type": "code",
   "execution_count": 4,
   "id": "5f0875bc",
   "metadata": {
    "scrolled": true
   },
   "outputs": [
    {
     "name": "stdout",
     "output_type": "stream",
     "text": [
      "can someone be allergic to water?\n",
      "******************************************************************************\n",
      "1 : 1.0669210209122924 : People drown when they get too much water in their lungs. You can drown in as little as an inch or two of water. Babies can drown in a sink or bathtub. Preschoolers are most likely to drown in a swimming pool. People who have seizure disorders are also at risk in the water. Drowning can happen quickly and silently.     Drowning precautions should include       -  Fences around pools    -  Supervising children near any body of water, including tubs    -  Not swimming or boating when under the influence of alcohol or sedatives    -  Wearing life jackets when boating    -  Learning CPR\n",
      "******************************************************************************\n",
      "2 : 1.1003814046830165 : Washing your hands frequently can help prevent upper respiratory infections, which can lead to an ear infection called otitis media. The ear infection otitis media can be a cause of long-term hearing loss. Also, ask your doctor about a yearly flu shot to help prevent flu-related ear infections. If you still get an ear infection, see a doctor immediately before it becomes more serious.\n",
      "******************************************************************************\n",
      "3 : 1.1075858747643532 : Summary : Noise is all around you, from televisions and radios to lawn mowers and washing machines. Normally, you hear these sounds at safe levels that don't affect hearing. But sounds that are too loud or loud sounds over a long time are harmful. They can damage sensitive structures of the inner ear and cause noise-induced hearing loss.    More than 30 million Americans are exposed to hazardous sound levels on a regular basis. Hazardous sound levels are louder than 80 decibels. That's not as loud as traffic on a busy street. Listening to loud music, especially on headphones, is a common cause of noise-induced hearing loss. You can protect your hearing by       - Keeping the volume down when listening to music    - Wearing earplugs when using loud equipment       NIH: National Institute on Deafness and Other Communication Disorders\n",
      "******************************************************************************\n",
      "4 : 1.1170212872794232 : Anaphylaxis is a serious allergic reaction. It can begin very quickly, and symptoms may be life-threatening. The most common causes are reactions to foods (especially peanuts), medications, and stinging insects. Other causes include exercise and exposure to latex. Sometimes no cause can be found.    It can affect many organs:       - Skin - itching, hives, redness, swelling    - Nose - sneezing, stuffy nose, runny nose    - Mouth - itching, swelling of the lips or tongue    - Throat - itching, tightness, trouble swallowing, swelling of the back of the throat    - Chest - shortness of breath, coughing, wheezing, chest pain or tightness    - Heart - weak pulse, passing out, shock    - Gastrointestinal tract - vomiting, diarrhea, cramps    - Nervous system - dizziness or fainting       If someone is having a serious allergic reaction, call 9-1-1. If an auto-injector is available, give the person the injection right away.    NIH: National Institute of Allergy and Infectious Diseases\n",
      "******************************************************************************\n",
      "5 : 1.1323454863956435 : Hearing loss can result from taking certain medications. \"Ototoxic\" medications damage the inner ear, sometimes permanently. Check with your doctor if you notice a problem while taking a medication.\n"
     ]
    }
   ],
   "source": [
    "answers = ask_question(\"can someone be allergic to water?\")\n",
    "\n",
    "print(answers[0][1])\n",
    "\n",
    "for i in range(len(answers)): #an_index in indices[0]:\n",
    "    answer_rank = answers[i][0]\n",
    "    this_answer = answers[i][3]\n",
    "    answer_distance = answers[i][2]\n",
    "    \n",
    "    print(\"******************************************************************************\")\n",
    "    print(answer_rank, \":\", answer_distance,\":\", this_answer)"
   ]
  },
  {
   "cell_type": "code",
   "execution_count": 5,
   "id": "628726b7",
   "metadata": {},
   "outputs": [
    {
     "name": "stdout",
     "output_type": "stream",
     "text": [
      "tell me about glaucoma research?\n",
      "******************************************************************************\n",
      "1 : 0.8708767537194393 : Glaucoma is a group of diseases that can damage the eye's optic nerve and result in vision loss and blindness. The most common form of the disease is open-angle glaucoma. With early treatment, you can often protect your eyes against serious vision loss. (Watch the video to learn more about glaucoma. To enlarge the video, click the brackets in the lower right-hand corner. To reduce the video, press the Escape (Esc) button on your keyboard.)  See this graphic for a quick overview of glaucoma, including how many people it affects, whos at risk, what to do if you have it, and how to learn more.  See a glossary of glaucoma terms.\n",
      "******************************************************************************\n",
      "2 : 0.8914751536482811 : Through studies in the laboratory and with patients, the National Eye Institute is seeking better ways to detect, treat, and prevent vision loss in people with glaucoma. For example, researchers have discovered genes that could help explain how glaucoma damages the eye. NEI also is supporting studies to learn more about who is likely to get glaucoma, when to treat people who have increased eye pressure, and which treatment to use first.\n",
      "******************************************************************************\n",
      "3 : 0.9597097113117828 : Yes. Immediate treatment for early stage, open-angle glaucoma can delay progression of the disease. That's why early diagnosis is very important. Glaucoma treatments include medicines, laser surgery, conventional surgery, or a combination of any of these. While these treatments may save remaining vision, they do not improve sight already lost from glaucoma.\n",
      "******************************************************************************\n",
      "4 : 0.9900817271576757 : Clinical research is medical research involving people. It includes clinical studies, which observe and gather information about large groups of people. It also includes clinical trials, which test a medicine, therapy, medical device, or intervention in people to see if it is safe and effective. Clinical trials are the best way to find out whether a particular intervention actually slows, delays, or prevents Alzheimers disease. Trials may compare a potential new treatment with a standard treatment or placebo (mock treatment). Or, they may study whether a certain behavior or condition affects the progress of Alzheimers or the chances of developing it. See the latest Alzheimers Disease Progress Report to read about results of NIA-supported Alzheimers research.\n",
      "******************************************************************************\n",
      "5 : 0.9903374892359088 : At first, open-angle glaucoma has no symptoms. It causes no pain. Vision seems normal. Without treatment, people with glaucoma will slowly lose their peripheral, or side vision. They seem to be looking through a tunnel. Over time, straight-ahead vision may decrease until no vision remains.\n"
     ]
    }
   ],
   "source": [
    "\n",
    "answers = ask_question(\"tell me about glaucoma research?\")\n",
    "\n",
    "print(answers[0][1])\n",
    "\n",
    "for i in range(len(answers)): #an_index in indices[0]:\n",
    "    answer_rank = answers[i][0]\n",
    "    this_answer = answers[i][3]\n",
    "    answer_distance = answers[i][2]\n",
    "    \n",
    "    print(\"******************************************************************************\")\n",
    "    print(answer_rank, \":\", answer_distance,\":\", this_answer)\n"
   ]
  },
  {
   "cell_type": "code",
   "execution_count": 6,
   "id": "706b757d",
   "metadata": {},
   "outputs": [
    {
     "name": "stdout",
     "output_type": "stream",
     "text": [
      "Are pets good to have around?\n",
      "******************************************************************************\n",
      "1 : 0.9104462747667565 : Summary : Pets can add fun, companionship and a feeling of safety to your life. Before getting a pet, think carefully about which animal is best for your family. What is each family member looking for in a pet? Who will take care of it? Does anyone have pet allergies? What type of animal suits your lifestyle and budget?    Once you own a pet, keep it healthy. Know the signs of medical problems. Take your pet to the veterinarian if you notice:       - Loss of appetite    - Drinking a lot of water    - Gaining or losing a lot of weight quickly    - Strange behavior    - Being sluggish and tired    - Trouble getting up or down    - Strange lumps\n",
      "******************************************************************************\n",
      "2 : 1.0441976092955767 : Animal diseases that people can catch are called zoonoses. Many diseases affecting humans can be traced to animals or animal products. You can get a disease directly from an animal, or indirectly, through the environment.    Farm animals can carry diseases. If you touch them or things they have touched, like fencing or buckets, wash your hands thoroughly. Adults should make sure children who visit farms or petting zoos wash up as well.     Though they may be cute and cuddly, wild animals may carry germs, viruses, and parasites. Deer and deer mice carry ticks that cause Lyme disease. Some wild animals may carry rabies. Enjoy wildlife from a distance.    Pets can also make you sick. Reptiles pose a particular risk. Turtles, snakes and iguanas can transmit Salmonella bacteria to their owners. You can get rabies from an infected dog or toxoplasmosis from handling kitty litter of an infected cat. The chance that your dog or cat will make you sick is small. You can reduce the risk by practicing good hygiene, keeping pet areas clean and keeping your pets' shots up-to-date.\n",
      "******************************************************************************\n",
      "3 : 1.0572438741149406 : Summary : Many U.S. households have guns, but they can cause harm if not handled properly. Here are some things you can do to keep yourself and your family safe:       - Teach children that they shouldn't touch guns and that if they see a gun, to leave it alone and tell an adult.     - If your children play at another home, talk to the parents about gun safety.     - Treat every gun as if it were loaded.     - Always store guns unloaded.     - Lock guns in a rack or safe, and hide the keys or combination.     - Store ammunition away from guns and keep it locked.     - Don't keep guns in your home if someone in your family has a mental illness, severe depression, or potential for violence.\n",
      "******************************************************************************\n",
      "4 : 1.0669473137897505 : Summary : Pests live where they are not wanted or cause harm to crops, people, or animals. Pesticides can help get rid of them. Pesticides are not just insect killers. They also include chemicals to control weeds, rodents, mildew, germs, and more. Many household products contain pesticides.    Pesticides can protect your health by killing germs, animals, or plants that could hurt you. However, they can also be harmful to people or pets. You might want to try non-chemical methods first. If you do need a pesticide, use it correctly. Be especially careful around children and pets. Proper disposal of pesticides is also important - it can help protect the environment.    Biologically-based pesticides are becoming more popular. They often are safer than traditional pesticides.    Environmental Protection Agency\n",
      "******************************************************************************\n",
      "5 : 1.0693429637934722 : Wild animals usually avoid people. They might attack, however, if they feel threatened, are sick, or are protecting their young or territory. Attacks by pets are more common. Animal bites rarely are life-threatening, but if they become infected, you can develop serious medical problems.     To prevent animal bites and complications from bites       -  Never pet, handle, or feed unknown animals     -  Leave snakes alone    -  Watch your children closely around animals    -  Vaccinate your cats, ferrets, and dogs against rabies    -  Spay or neuter your dog to make it less aggressive    -  Get a tetanus booster if you have not had one recently    -  Wear boots and long pants when you are in areas with venomous snakes       If an animal bites you, clean the wound with soap and water as soon as possible. Get medical attention if necessary.    Centers for Disease Control and Prevention\n"
     ]
    }
   ],
   "source": [
    "answers = ask_question(\"Are pets good to have around?\")\n",
    "\n",
    "print(answers[0][1])\n",
    "\n",
    "for i in range(len(answers)): #an_index in indices[0]:\n",
    "    answer_rank = answers[i][0]\n",
    "    this_answer = answers[i][3]\n",
    "    answer_distance = answers[i][2]\n",
    "    \n",
    "    print(\"******************************************************************************\")\n",
    "    print(answer_rank, \":\", answer_distance,\":\", this_answer)\n",
    "\n",
    "    "
   ]
  },
  {
   "cell_type": "code",
   "execution_count": 7,
   "id": "b1b38a72",
   "metadata": {},
   "outputs": [
    {
     "name": "stdout",
     "output_type": "stream",
     "text": [
      "training set accuracy:  0.7372912349140558   number correct: 12096\n"
     ]
    }
   ],
   "source": [
    "# test the model accuracy\n",
    "\n",
    "num_correct = 0\n",
    "for i,r in train_data.iterrows():\n",
    "    the_question = r['question']\n",
    "    the_expected_answer = r['answer']\n",
    "    \n",
    "    answers = ask_question(the_question)\n",
    "    \n",
    "    for i in range(len(answers)): #an_index in indices[0]:\n",
    "        answer_rank = answers[i][0]\n",
    "        this_answer = answers[i][3]\n",
    "        answer_distance = answers[i][2]\n",
    "        \n",
    "        if this_answer==the_expected_answer:\n",
    "            #print(\"got it!!\")\n",
    "            num_correct+=1\n",
    "\n",
    "print(\"training set accuracy: \", num_correct/train_data.shape[0], \"  number correct:\", num_correct)     \n",
    "\n",
    "# training set accuracy:  0.7372912349140558   number correct: 12096"
   ]
  },
  {
   "cell_type": "code",
   "execution_count": null,
   "id": "b7c76199",
   "metadata": {},
   "outputs": [],
   "source": []
  },
  {
   "cell_type": "code",
   "execution_count": null,
   "id": "3cf6fb74",
   "metadata": {},
   "outputs": [],
   "source": []
  },
  {
   "cell_type": "code",
   "execution_count": null,
   "id": "28cfe515",
   "metadata": {},
   "outputs": [],
   "source": []
  },
  {
   "cell_type": "code",
   "execution_count": null,
   "id": "076bb3ae",
   "metadata": {},
   "outputs": [],
   "source": []
  }
 ],
 "metadata": {
  "kernelspec": {
   "display_name": "Python 3 (ipykernel)",
   "language": "python",
   "name": "python3"
  },
  "language_info": {
   "codemirror_mode": {
    "name": "ipython",
    "version": 3
   },
   "file_extension": ".py",
   "mimetype": "text/x-python",
   "name": "python",
   "nbconvert_exporter": "python",
   "pygments_lexer": "ipython3",
   "version": "3.10.13"
  }
 },
 "nbformat": 4,
 "nbformat_minor": 5
}
