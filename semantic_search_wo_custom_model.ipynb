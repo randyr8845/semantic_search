{
 "cells": [
  {
   "cell_type": "code",
   "execution_count": 1,
   "id": "e5b5422a",
   "metadata": {},
   "outputs": [],
   "source": [
    "#!/usr/bin/env python3\n",
    "# -*- coding: utf-8 -*-\n",
    "\"\"\"\n",
    "Created on Mon Feb 17 10:11:23 2025\n",
    "\n",
    "@author: randy\n",
    "\n",
    "Semantic \n",
    "\n",
    "\n",
    "\"\"\"\n",
    "# %pip install accelerate==1.3.0 #0.26.0\n",
    "# %pip install sentence-transformers==3.4.1\n",
    "# %pip install datasets==3.3.1\n",
    "\n",
    "import datetime as dt\n",
    "import pandas as pd\n",
    "# import re\n",
    "# import numpy as np\n",
    "# import json\n",
    "# import random\n",
    "# import ast\n",
    "# import copy\n",
    "from sklearn.neighbors import NearestNeighbors\n",
    "import numpy as np\n",
    "import pickle\n",
    "\n",
    "#for vector embeddings\n",
    "from sentence_transformers import SentenceTransformer, losses, InputExample, util\n",
    "\n",
    "data_filename = \"/home/randy/supportiv/mle_screening_dataset.csv\"\n",
    "org_huggingface_model_name = 'sentence-transformers/msmarco-MiniLM-L6-cos-v5'\n",
    "embedding_model_filename = '/home/randy/supportiv/untrained_model'\n",
    "nn_model_filename = \"/home/randy/supportiv/untrained_nn_model.pkl\""
   ]
  },
  {
   "cell_type": "code",
   "execution_count": null,
   "id": "967c282c",
   "metadata": {},
   "outputs": [],
   "source": [
    "#############################################################################################################\n",
    "# Step one: Build the search model <-------------------- you only need to do this one\n",
    "#   1. load the data\n",
    "#   2. load the model from HuggingFace and save locallly\n",
    "#   3. encode all the answers\n",
    "#   4. compute the nearest neighbor search model using the encoded answers\n",
    "#   5. save the nearest neigbor model (as pickle file)\n",
    "\n",
    "# read the raw data\n",
    "train_data = pd.read_csv(data_filename)\n",
    "train_data.columns\n",
    "docs = train_data['answer'].astype(str).tolist()\n",
    "\n",
    "#Load the pre-trained (not fine-tuned) embedding model\n",
    "model = SentenceTransformer(org_huggingface_model_name)\n",
    "model.save(embedding_model_filename) # save the embedding model locally\n",
    "\n",
    "# encode the answeres with the embedding model\n",
    "doc_emb = model.encode(docs)\n",
    "\n",
    "# compute a nearest neighbor model with answer embeddings\n",
    "nbrs = NearestNeighbors(n_neighbors=10, algorithm='ball_tree').fit(doc_emb)\n",
    "\n",
    "# same model to storage\n",
    "pickle.dump(nbrs, open(nn_model_filename, 'wb'))"
   ]
  },
  {
   "cell_type": "code",
   "execution_count": 2,
   "id": "7e4d597d",
   "metadata": {},
   "outputs": [
    {
     "name": "stderr",
     "output_type": "stream",
     "text": [
      "/home/randy/anaconda3/envs/anapy310/lib/python3.10/site-packages/torch/cuda/__init__.py:138: UserWarning: CUDA initialization: The NVIDIA driver on your system is too old (found version 11040). Please update your GPU driver by downloading and installing a new version from the URL: http://www.nvidia.com/Download/index.aspx Alternatively, go to: https://pytorch.org to install a PyTorch version that has been compiled with your version of the CUDA driver. (Triggered internally at ../c10/cuda/CUDAFunctions.cpp:108.)\n",
      "  return torch._C._cuda_getDeviceCount() > 0\n",
      "/home/randy/anaconda3/envs/anapy310/lib/python3.10/site-packages/torch/_utils.py:831: UserWarning: TypedStorage is deprecated. It will be removed in the future and UntypedStorage will be the only storage class. This should only matter to you if you are using storages directly.  To access UntypedStorage directly, use tensor.untyped_storage() instead of tensor.storage()\n",
      "  return self.fget.__get__(instance, owner)()\n"
     ]
    }
   ],
   "source": [
    "#############################################################################################################\n",
    "# Step two: inference\n",
    "#   1. load nearest neigbor model\n",
    "#   2. load the HuggingFace model from local strage\n",
    "#   3. load the orgnial answeres\n",
    "#   4. ask a question\n",
    "#   5. show the answers that are closet to the question\n",
    "\n",
    "# load the nearest meighbor model\n",
    "loaded_nn_model = pickle.load(open(nn_model_filename, 'rb'))\n",
    "\n",
    "# load the embedding model\n",
    "loaded_embedding_mode = SentenceTransformer(embedding_model_filename)\n",
    "\n",
    "# load the orginal data set\n",
    "train_data = pd.read_csv(data_filename)"
   ]
  },
  {
   "cell_type": "code",
   "execution_count": 3,
   "id": "c36b68a1",
   "metadata": {},
   "outputs": [],
   "source": [
    "\n",
    "def ask_question(the_question, num_results = 5):\n",
    "    \"\"\"Aks the semantic search a question and see the results\"\"\"\n",
    "    new_embedding = loaded_embedding_mode.encode(the_question)\n",
    "    distances, indices = loaded_nn_model.kneighbors([new_embedding], num_results)\n",
    "    return_len = len(indices[0])\n",
    "\n",
    "    return_results = []\n",
    "    for i in range(return_len): #an_index in indices[0]:\n",
    "        this_answer = train_data.loc[indices[0][i]]['answer']\n",
    "        this_answers_distance = distances[0][i]\n",
    "        return_results.append([i+1, the_question, this_answers_distance, this_answer])\n",
    "        #print(\"******************************************************************************\")\n",
    "        #print(i+1, this_answers_distance, this_answer)\n",
    "    \n",
    "    return return_results"
   ]
  },
  {
   "cell_type": "code",
   "execution_count": 4,
   "id": "ae414fb3",
   "metadata": {
    "scrolled": true
   },
   "outputs": [
    {
     "name": "stdout",
     "output_type": "stream",
     "text": [
      "can someone be allergic to water?\n",
      "******************************************************************************\n",
      "1 : 1.0669210209122924 : People drown when they get too much water in their lungs. You can drown in as little as an inch or two of water. Babies can drown in a sink or bathtub. Preschoolers are most likely to drown in a swimming pool. People who have seizure disorders are also at risk in the water. Drowning can happen quickly and silently.     Drowning precautions should include       -  Fences around pools    -  Supervising children near any body of water, including tubs    -  Not swimming or boating when under the influence of alcohol or sedatives    -  Wearing life jackets when boating    -  Learning CPR\n",
      "******************************************************************************\n",
      "2 : 1.1003814046830165 : Washing your hands frequently can help prevent upper respiratory infections, which can lead to an ear infection called otitis media. The ear infection otitis media can be a cause of long-term hearing loss. Also, ask your doctor about a yearly flu shot to help prevent flu-related ear infections. If you still get an ear infection, see a doctor immediately before it becomes more serious.\n",
      "******************************************************************************\n",
      "3 : 1.1075858747643532 : Summary : Noise is all around you, from televisions and radios to lawn mowers and washing machines. Normally, you hear these sounds at safe levels that don't affect hearing. But sounds that are too loud or loud sounds over a long time are harmful. They can damage sensitive structures of the inner ear and cause noise-induced hearing loss.    More than 30 million Americans are exposed to hazardous sound levels on a regular basis. Hazardous sound levels are louder than 80 decibels. That's not as loud as traffic on a busy street. Listening to loud music, especially on headphones, is a common cause of noise-induced hearing loss. You can protect your hearing by       - Keeping the volume down when listening to music    - Wearing earplugs when using loud equipment       NIH: National Institute on Deafness and Other Communication Disorders\n",
      "******************************************************************************\n",
      "4 : 1.1170212872794232 : Anaphylaxis is a serious allergic reaction. It can begin very quickly, and symptoms may be life-threatening. The most common causes are reactions to foods (especially peanuts), medications, and stinging insects. Other causes include exercise and exposure to latex. Sometimes no cause can be found.    It can affect many organs:       - Skin - itching, hives, redness, swelling    - Nose - sneezing, stuffy nose, runny nose    - Mouth - itching, swelling of the lips or tongue    - Throat - itching, tightness, trouble swallowing, swelling of the back of the throat    - Chest - shortness of breath, coughing, wheezing, chest pain or tightness    - Heart - weak pulse, passing out, shock    - Gastrointestinal tract - vomiting, diarrhea, cramps    - Nervous system - dizziness or fainting       If someone is having a serious allergic reaction, call 9-1-1. If an auto-injector is available, give the person the injection right away.    NIH: National Institute of Allergy and Infectious Diseases\n",
      "******************************************************************************\n",
      "5 : 1.1323454863956435 : Hearing loss can result from taking certain medications. \"Ototoxic\" medications damage the inner ear, sometimes permanently. Check with your doctor if you notice a problem while taking a medication.\n"
     ]
    }
   ],
   "source": [
    "answers = ask_question(\"can someone be allergic to water?\")\n",
    "\n",
    "print(answers[0][1])\n",
    "\n",
    "for i in range(len(answers)): #an_index in indices[0]:\n",
    "    answer_rank = answers[i][0]\n",
    "    this_answer = answers[i][3]\n",
    "    answer_distance = answers[i][2]\n",
    "    \n",
    "    print(\"******************************************************************************\")\n",
    "    print(answer_rank, \":\", answer_distance,\":\", this_answer)"
   ]
  },
  {
   "cell_type": "code",
   "execution_count": null,
   "id": "530bacfa",
   "metadata": {},
   "outputs": [],
   "source": [
    "\n",
    "answers = ask_question(\"tell me about glaucoma research?\")\n",
    "\n",
    "print(answers[0][1])\n",
    "\n",
    "for i in range(len(answers)): #an_index in indices[0]:\n",
    "    answer_rank = answers[i][0]\n",
    "    this_answer = answers[i][3]\n",
    "    answer_distance = answers[i][2]\n",
    "    \n",
    "    print(\"******************************************************************************\")\n",
    "    print(answer_rank, \":\", answer_distance,\":\", this_answer)\n"
   ]
  }
 ],
 "metadata": {
  "kernelspec": {
   "display_name": "Python 3 (ipykernel)",
   "language": "python",
   "name": "python3"
  },
  "language_info": {
   "codemirror_mode": {
    "name": "ipython",
    "version": 3
   },
   "file_extension": ".py",
   "mimetype": "text/x-python",
   "name": "python",
   "nbconvert_exporter": "python",
   "pygments_lexer": "ipython3",
   "version": "3.10.13"
  }
 },
 "nbformat": 4,
 "nbformat_minor": 5
}
